{
  "nbformat": 4,
  "nbformat_minor": 0,
  "metadata": {
    "colab": {
      "provenance": [],
      "authorship_tag": "ABX9TyNp0zistLAMK3a+sx6qDZLU",
      "include_colab_link": true
    },
    "kernelspec": {
      "name": "python3",
      "display_name": "Python 3"
    },
    "language_info": {
      "name": "python"
    }
  },
  "cells": [
    {
      "cell_type": "markdown",
      "metadata": {
        "id": "view-in-github",
        "colab_type": "text"
      },
      "source": [
        "<a href=\"https://colab.research.google.com/github/MashrafeeAryan/November-14-2024-Fashin-Clothes-with-CNN/blob/main/November_14%2C_2024_Fashin_Clothes_with_CNN.ipynb\" target=\"_parent\"><img src=\"https://colab.research.google.com/assets/colab-badge.svg\" alt=\"Open In Colab\"/></a>"
      ]
    },
    {
      "cell_type": "code",
      "execution_count": null,
      "metadata": {
        "id": "qWQnS-8MycBJ"
      },
      "outputs": [],
      "source": [
        "import torch\n",
        "import torch.nn as nn\n",
        "import torch.nn.functional as F\n",
        "import matplotlib.pyplot as plt\n",
        "from torch.utils.data import DataLoader\n",
        "from torchvision import datasets, transforms\n",
        "import torch.optim as optim"
      ]
    },
    {
      "cell_type": "code",
      "source": [
        "transform = transforms.Compose([transforms.ToTensor()])\n",
        "train_data = datasets.FashionMNIST(root='data', download = True, train = True, transform=transform)\n",
        "test_data = datasets.FashionMNIST(root='data', download = True, train = False, transform=transform)"
      ],
      "metadata": {
        "id": "ILjFjNdYzqk5"
      },
      "execution_count": null,
      "outputs": []
    },
    {
      "cell_type": "code",
      "source": [
        "train_dataloader = DataLoader(dataset=train_data, batch_size = 64, shuffle =True)\n",
        "test_dataloader = DataLoader(dataset=test_data, batch_size = 64, shuffle =False)"
      ],
      "metadata": {
        "id": "LeQbkCzS1Inp"
      },
      "execution_count": null,
      "outputs": []
    },
    {
      "cell_type": "code",
      "source": [
        "image, label = train_data[0]\n",
        "print(label)\n",
        "plt.imshow(image.squeeze())\n",
        "classes = train_data.classes\n",
        "plt.title(classes[label])\n"
      ],
      "metadata": {
        "colab": {
          "base_uri": "https://localhost:8080/",
          "height": 487
        },
        "id": "lruO1IYZ11Kq",
        "outputId": "7c4cb558-9292-497c-b28d-86d2077fea90"
      },
      "execution_count": null,
      "outputs": [
        {
          "output_type": "stream",
          "name": "stdout",
          "text": [
            "9\n"
          ]
        },
        {
          "output_type": "execute_result",
          "data": {
            "text/plain": [
              "Text(0.5, 1.0, 'Ankle boot')"
            ]
          },
          "metadata": {},
          "execution_count": 13
        },
        {
          "output_type": "display_data",
          "data": {
            "text/plain": [
              "<Figure size 640x480 with 1 Axes>"
            ],
            "image/png": "[encoded data removed]"
          },
          "metadata": {}
        }
      ]
    },
    {
      "cell_type": "markdown",
      "source": [
        "Steps to Find the Input for the Linear Layer\n",
        "Start with the Input Image Size:\n",
        "Suppose we're using 28x28 grayscale images (e.g., MNIST or Fashion-MNIST dataset), so our initial input shape is (batch_size, 1, 28, 28).\n",
        "\n",
        "Pass Through conv1 Layer:\n",
        "\n",
        "self.conv1 = nn.Conv2d(in_channels=1, out_channels=16, kernel_size=3, stride=1, padding=1)\n",
        "A convolution layer with a kernel size of 3x3, stride 1, and padding 1 keeps the spatial dimensions the same.\n",
        "Output shape: (batch_size, 16, 28, 28)\n",
        "Pass Through pool Layer (after conv1):\n",
        "\n",
        "self.pool = nn.MaxPool2d(kernel_size=2, stride=2, padding=0)\n",
        "Max pooling with kernel size 2x2 and stride 2 reduces each dimension by half.\n",
        "Output shape after pooling: (batch_size, 16, 14, 14)\n",
        "Pass Through conv2 Layer:\n",
        "\n",
        "self.conv2 = nn.Conv2d(in_channels=16, out_channels=32, kernel_size=3, stride=1, padding=1)\n",
        "This convolution keeps the dimensions the same because of the 3x3 kernel, stride 1, and padding 1.\n",
        "Output shape: (batch_size, 32, 14, 14)\n",
        "Pass Through pool Layer (after conv2):\n",
        "\n",
        "Again, the max pooling with kernel size 2x2 and stride 2 halves the dimensions.\n",
        "Output shape after pooling: (batch_size, 32, 7, 7)\n",
        "Flatten the Output for the Linear Layer:\n",
        "\n",
        "The resulting tensor after the last pooling operation has the shape (batch_size, 32, 7, 7).\n",
        "To feed this into a fully connected layer, we need to flatten it to a 1D vector of size 32 * 7 * 7 = 1568.\n",
        "Set Up the First nn.Linear Layer:\n",
        "\n",
        "The input to self.fc1 should match the flattened size, 32 * 7 * 7.\n",
        "So, the first fully connected layer is defined as self.fc1 = nn.Linear(32 * 7 * 7, 128).\n",
        "Verification Code\n",
        "To confirm these calculations programmatically, you can pass a sample tensor through the network and print the shapes:\n",
        "\n",
        "python\n",
        "Copy code\n",
        "model = SimpleCNN()\n",
        "sample_input = torch.randn(1, 1, 28, 28)  # Example batch of 1 grayscale 28x28 image\n",
        "output = model(sample_input)\n",
        "\n",
        "# Output shape of the last layer\n",
        "print(\"Output shape:\", output.shape)  # Expected output shape: (1, 10)"
      ],
      "metadata": {
        "id": "nVbKGCCJh8Ui"
      }
    },
    {
      "cell_type": "code",
      "source": [
        "class CNN(nn.Module):\n",
        "  def __init__(self):\n",
        "    super().__init__()\n",
        "    self.CNN_1 = nn.Conv2d(in_channels=1, out_channels=16, kernel_size =3, stride = 1, padding=1)\n",
        "    self.CNN_2 = nn.Conv2d(in_channels=16, out_channels=32, kernel_size =3, stride=1, padding=1)\n",
        "    self.CNN_3 = nn.Conv2d(in_channels=32, out_channels=64, kernel_size=3, stride=1, padding=1)\n",
        "\n",
        "    self.pool = nn.MaxPool2d(kernel_size=2, stride=2, padding=0)\n",
        "\n",
        "    self.linear_1 = nn.Linear(64*7*7, 128)\n",
        "    self.linear_2 = nn.Linear(128, 10)\n",
        "\n",
        "  def forward(self, x):\n",
        "    x = self.pool(F.relu(self.CNN_1(x)))\n",
        "    x = self.pool(F.relu(self.CNN_2(x)))\n",
        "    x = F.relu(self.CNN_3(x))\n",
        "\n",
        "    x = x.view(-1, 64 * 7 * 7)\n",
        "    x = F.relu(self.linear_1(x))\n",
        "    x = self.linear_2(x)\n",
        "    return x\n",
        "\n",
        "\n",
        "\n"
      ],
      "metadata": {
        "id": "L34MwAsMJFdI"
      },
      "execution_count": null,
      "outputs": []
    },
    {
      "cell_type": "code",
      "source": [
        "model_1 = CNN()\n",
        "loss_func = nn.CrossEntropyLoss()\n",
        "optimizer = optim.Adam(model_1.parameters(), lr=0.001)"
      ],
      "metadata": {
        "id": "hxw10iIGRHNp"
      },
      "execution_count": null,
      "outputs": []
    },
    {
      "cell_type": "code",
      "source": [
        "epochs = 5\n",
        "for epoch in range(epochs):\n",
        "  train_loss = 0\n",
        "  test_loss = 0\n",
        "  model_1.train()\n",
        "  for image, labels in train_dataloader:\n",
        "    #Forward pass\n",
        "    results = model_1(image)\n",
        "\n",
        "    #Calculate the loss\n",
        "    loss = loss_func(results, labels)\n",
        "\n",
        "    #Optimizer zero grad\n",
        "    optimizer.zero_grad()\n",
        "\n",
        "    #Loss backwards\n",
        "    loss.backward()\n",
        "\n",
        "    #Step\n",
        "    optimizer.step()\n",
        "\n",
        "    #train_loss\n",
        "    train_loss += loss.item()\n",
        "\n",
        "  model_1.eval()\n",
        "  with torch.inference_mode():\n",
        "    for image, labels in test_dataloader:\n",
        "      results = model_1(image)\n",
        "      v_loss = loss_func(results, labels)\n",
        "      test_loss += v_loss.item()\n",
        "\n",
        "  print(f\"Epoch: {epoch+1}/{epochs} | Train Loss per batch: {train_loss/len(train_dataloader)} | Test Loss per batch: {test_loss/len(test_dataloader)} \")\n",
        "\n",
        "\n",
        "\n"
      ],
      "metadata": {
        "colab": {
          "base_uri": "https://localhost:8080/"
        },
        "id": "RFKr_bjPSEYD",
        "outputId": "ca4f9d46-264c-4c9c-a740-42efb4b4e243"
      },
      "execution_count": null,
      "outputs": [
        {
          "output_type": "stream",
          "name": "stdout",
          "text": [
            "Epoch: 1/5 | Train Loss per batch: 0.48964002277297 | Test Loss per batch: 0.3596272054751208 \n",
            "Epoch: 2/5 | Train Loss per batch: 0.3079653162676007 | Test Loss per batch: 0.30565371084365117 \n",
            "Epoch: 3/5 | Train Loss per batch: 0.26200109013298684 | Test Loss per batch: 0.276925380774744 \n",
            "Epoch: 4/5 | Train Loss per batch: 0.2312968519252183 | Test Loss per batch: 0.2572508365105671 \n",
            "Epoch: 5/5 | Train Loss per batch: 0.20670870363092753 | Test Loss per batch: 0.24620326409104523 \n"
          ]
        }
      ]
    },
    {
      "cell_type": "code",
      "source": [
        "classses = test_data.classes\n",
        "accurate_images = 0\n",
        "inaccurate_images = 0\n",
        "for i in range(len(test_data)):\n",
        "  a, b = test_data[i]\n",
        "  results = model_1(a)\n",
        "  prediction_index = torch.argmax(results, dim=1).item()\n",
        "  predicted_label = classes[prediction_index]\n",
        "  if predicted_label == classes[b]:\n",
        "    accurate_images += 1\n",
        "  else:\n",
        "    inaccurate_images +=1\n",
        "print(accurate_images, inaccurate_images)"
      ],
      "metadata": {
        "colab": {
          "base_uri": "https://localhost:8080/"
        },
        "id": "wWND41zdoTGJ",
        "outputId": "97ee6a7b-3639-43c6-a9c7-c28cdac23e7f"
      },
      "execution_count": null,
      "outputs": [
        {
          "output_type": "stream",
          "name": "stdout",
          "text": [
            "9112 888\n"
          ]
        }
      ]
    },
    {
      "cell_type": "code",
      "source": [
        "print(accurate_images, inaccurate_images)"
      ],
      "metadata": {
        "colab": {
          "base_uri": "https://localhost:8080/"
        },
        "id": "GHF61NGFy9Qu",
        "outputId": "eca474e6-da33-4b3f-fa91-5afdc9ea939b"
      },
      "execution_count": null,
      "outputs": [
        {
          "output_type": "stream",
          "name": "stdout",
          "text": [
            "9112 888\n"
          ]
        }
      ]
    },
    {
      "cell_type": "code",
      "source": [
        "torch.save(model_1.state_dict(), 'model_1.pth')\n"
      ],
      "metadata": {
        "id": "DlFW3WCh1oc7"
      },
      "execution_count": null,
      "outputs": []
    },
    {
      "cell_type": "code",
      "source": [],
      "metadata": {
        "id": "Z2c_18JcFizo"
      },
      "execution_count": null,
      "outputs": []
    }
  ]
}